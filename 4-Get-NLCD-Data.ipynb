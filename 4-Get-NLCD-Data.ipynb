{
 "cells": [
  {
   "cell_type": "markdown",
   "metadata": {},
   "source": [
    "# Grab land cover for specified extent\n",
    "Say you want to grab land cover data for a specific location, but you don't want to download the entire NLCD dataset to do that. The ArcGIS Python API can help!\n",
    "\n",
    "Here I present an example of doing just that. The steps involve:\n",
    "1. [Prepping for the analysis: importing modules and authenticating our arcgis session](#1.-Prepping-for-analysis:-importing-and-authenticating)\n",
    "2. [Searching for the land cover data **item** and creating a **imagery layer** from it](#2.-Searching-for-and-accessing-the-content)  \n",
    " 2a. [Alternative: Fetching data by its item ID](#2a.-A-second-option-for-finding-and-fetching-data:-ESRI's-Living-Atlas)\n",
    "3. [Accessing the layers contained in the image service](#3.-Accessing-the-layers-contained-in-the-image-service)  \n",
    " 3a. [Accessing image services directly from their REST API URL](#3a.-Accesing-image-service-layers-directly,-using-their-REST-endpoint-URL)\n",
    "4. [Exploring properties of the image layer](#4.-Exploring-properties-of-the-image-layer)\n",
    "5. [Mapping](#5.Mapping)\n",
    "6. [Subsetting our image](#6.-Subsetting-our-image)\n",
    "7. [Getting the land cover at a specific location](#7.-Getting-the-land-cover-at-a-specific-location)\n",
    "\n",
    "*Resource: https://developers.arcgis.com/python/guide/raster-analysis-advanced-concepts/*"
   ]
  },
  {
   "cell_type": "markdown",
   "metadata": {},
   "source": [
    "## 1. Prepping for analysis: importing and authenticating\n",
    "* Import the the arcgis `GIS` module. We're going to do some geocoding so we need to create the arcgis `geocoding` module as well. Lastly, enable the Jupyter `display` object"
   ]
  },
  {
   "cell_type": "code",
   "execution_count": 2,
   "metadata": {},
   "outputs": [],
   "source": [
    "#Import the GIS object.  and display modules\n",
    "from arcgis import GIS\n",
    "#from arcgis.geocoding import geocode\n",
    "from IPython.display import display, Image"
   ]
  },
  {
   "cell_type": "markdown",
   "metadata": {},
   "source": [
    "* Authenticate our GIS object using our ArcGIS Pro account"
   ]
  },
  {
   "cell_type": "code",
   "execution_count": 3,
   "metadata": {},
   "outputs": [],
   "source": [
    "#Create the GIS object, authenticating with your ArcGIS Pro account\n",
    "gis = GIS('home')"
   ]
  },
  {
   "cell_type": "markdown",
   "metadata": {},
   "source": [
    "## 2. Searching for and accessing the content\n",
    "What we want is 2011 NLCD data, provided as an *image service* (i.e. as a raster). You could search for the data from within ArcGIS Pro or via the [ArcGIS Online](http://www.arcgis.com) website, but we'll do it right here. \n",
    "\n",
    "Like any web search, it's a bit of an art knowing how best to locate the resource you want. At play are what general search keywords to include, and specific categories like `owner` or `item-type` to invoke. We do, however, want to search outside the Duke Community, we we want to include `outside_org=True`. \n",
    "\n",
    "I've decided to use `NLCD 2011` as a general search term, filter results for only those that `esri` provides, and limit results to image services: "
   ]
  },
  {
   "cell_type": "code",
   "execution_count": 4,
   "metadata": {},
   "outputs": [
    {
     "data": {
      "text/plain": [
       "3"
      ]
     },
     "execution_count": 4,
     "metadata": {},
     "output_type": "execute_result"
    }
   ],
   "source": [
    "#Search for land cover and print the number of results\n",
    "nlcd_results = gis.content.search(\"NLCD 2011, owner:esri\",   #The query used to select records\n",
    "                                  item_type='Image Service', #Filter just those that are Imagery layers\n",
    "                                  max_items=100,             #Default is 10 items; let's look for more\n",
    "                                  outside_org=True)          #Default is to just search Duke's portal; turn that off\n",
    "#Reveal how many hits we got\n",
    "len(nlcd_results)"
   ]
  },
  {
   "cell_type": "markdown",
   "metadata": {},
   "source": [
    "► This gives us several results, enough to show a list..."
   ]
  },
  {
   "cell_type": "code",
   "execution_count": 5,
   "metadata": {},
   "outputs": [
    {
     "data": {
      "text/plain": [
       "[<Item title:\"USA Cropland\" type:Imagery Layer owner:esri>,\n",
       " <Item title:\"USA NLCD Land Cover\" type:Imagery Layer owner:esri>,\n",
       " <Item title:\"USA NLCD Impervious Surface Time Series\" type:Imagery Layer owner:esri>]"
      ]
     },
     "execution_count": 5,
     "metadata": {},
     "output_type": "execute_result"
    }
   ],
   "source": [
    "#Show a complete list of results\n",
    "nlcd_results"
   ]
  },
  {
   "cell_type": "markdown",
   "metadata": {},
   "source": [
    "* The *second* item is the one we want. Let's store that as a variable named `lc_item`. "
   ]
  },
  {
   "cell_type": "code",
   "execution_count": 6,
   "metadata": {},
   "outputs": [
    {
     "data": {
      "text/plain": [
       "arcgis.gis.Item"
      ]
     },
     "execution_count": 6,
     "metadata": {},
     "output_type": "execute_result"
    }
   ],
   "source": [
    "#Get the second result and view what kind of Python object it is. \n",
    "nlcd_item = nlcd_results[1]\n",
    "type(nlcd_item)"
   ]
  },
  {
   "cell_type": "code",
   "execution_count": 7,
   "metadata": {},
   "outputs": [
    {
     "data": {
      "text/plain": [
       "'Image Service'"
      ]
     },
     "execution_count": 7,
     "metadata": {},
     "output_type": "execute_result"
    }
   ],
   "source": [
    "#Show what kind of ArcGIS object it is\n",
    "nlcd_item.type"
   ]
  },
  {
   "cell_type": "code",
   "execution_count": 8,
   "metadata": {},
   "outputs": [
    {
     "data": {
      "text/plain": [
       "'3ccf118ed80748909eb85c6d262b426f'"
      ]
     },
     "execution_count": 8,
     "metadata": {},
     "output_type": "execute_result"
    }
   ],
   "source": [
    "#Show what the item's ID is \n",
    "nlcd_item.id"
   ]
  },
  {
   "cell_type": "code",
   "execution_count": 9,
   "metadata": {},
   "outputs": [
    {
     "data": {
      "text/html": [
       "<div class=\"item_container\" style=\"height: auto; overflow: hidden; border: 1px solid #cfcfcf; border-radius: 2px; background: #f6fafa; line-height: 1.21429em; padding: 10px;\">\n",
       "                    <div class=\"item_left\" style=\"width: 210px; float: left;\">\n",
       "                       <a href='https://dukeuniv.maps.arcgis.com//home/item.html?id=3ccf118ed80748909eb85c6d262b426f' target='_blank'>\n",
       "                        <img src='data:image/png;base64,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' width='200' height='133' class=\"itemThumbnail\">\n",
       "                       </a>\n",
       "                    </div>\n",
       "\n",
       "                    <div class=\"item_right\"     style=\"float: none; width: auto; overflow: hidden;\">\n",
       "                        <a href='https://dukeuniv.maps.arcgis.com//home/item.html?id=3ccf118ed80748909eb85c6d262b426f' target='_blank'><b>USA NLCD Land Cover</b>\n",
       "                        </a>\n",
       "                        <br/>This layer displays a time series of land cover for the United States from the National Land Cover Database (NLCD), at various intervals from 2001 to present.<img src='https://dukeuniv.maps.arcgis.com//home/js/jsapi/esri/css/images/item_type_icons/imagery16.png' style=\"vertical-align:middle;\">Imagery Layer by esri\n",
       "                        <br/>Last Modified: September 08, 2021\n",
       "                        <br/>0 comments, 579,958 views\n",
       "                    </div>\n",
       "                </div>\n",
       "                "
      ],
      "text/plain": [
       "<Item title:\"USA NLCD Land Cover\" type:Imagery Layer owner:esri>"
      ]
     },
     "execution_count": 9,
     "metadata": {},
     "output_type": "execute_result"
    }
   ],
   "source": [
    "#Show the item info\n",
    "nlcd_item"
   ]
  },
  {
   "cell_type": "markdown",
   "metadata": {},
   "source": [
    "### 2a. A second option for finding and fetching data: ESRI's Living Atlas\n",
    "ESRI's [Living Atlas](https://livingatlas.arcgis.com) contains a vast array of quality controlled data. Here's how we can access images hosted there: \n",
    "* Open the Living Atlas in your web browser. \n",
    "* Search for NLCD and select the [USA NLCD Land Cover](https://www.arcgis.com/home/item.html?id=3ccf118ed80748909eb85c6d262b426f)\n",
    "* Note the Item ID in the page's URL: `3ccf118ed80748909eb85c6d262b426f`\n",
    "* Fetch the imagery layer using this ID:"
   ]
  },
  {
   "cell_type": "code",
   "execution_count": 10,
   "metadata": {},
   "outputs": [
    {
     "data": {
      "text/plain": [
       "'Image Service'"
      ]
     },
     "execution_count": 10,
     "metadata": {},
     "output_type": "execute_result"
    }
   ],
   "source": [
    "#Fetch the NLCD image layer service using its item ID\n",
    "nlcd_item2 = gis.content.get('3ccf118ed80748909eb85c6d262b426f')\n",
    "nlcd_item2.type"
   ]
  },
  {
   "cell_type": "code",
   "execution_count": 11,
   "metadata": {},
   "outputs": [
    {
     "data": {
      "text/html": [
       "<div class=\"item_container\" style=\"height: auto; overflow: hidden; border: 1px solid #cfcfcf; border-radius: 2px; background: #f6fafa; line-height: 1.21429em; padding: 10px;\">\n",
       "                    <div class=\"item_left\" style=\"width: 210px; float: left;\">\n",
       "                       <a href='https://dukeuniv.maps.arcgis.com//home/item.html?id=3ccf118ed80748909eb85c6d262b426f' target='_blank'>\n",
       "                        <img src='data:image/png;base64,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' width='200' height='133' class=\"itemThumbnail\">\n",
       "                       </a>\n",
       "                    </div>\n",
       "\n",
       "                    <div class=\"item_right\"     style=\"float: none; width: auto; overflow: hidden;\">\n",
       "                        <a href='https://dukeuniv.maps.arcgis.com//home/item.html?id=3ccf118ed80748909eb85c6d262b426f' target='_blank'><b>USA NLCD Land Cover</b>\n",
       "                        </a>\n",
       "                        <br/>This layer displays a time series of land cover for the United States from the National Land Cover Database (NLCD), at various intervals from 2001 to present.<img src='https://dukeuniv.maps.arcgis.com//home/js/jsapi/esri/css/images/item_type_icons/imagery16.png' style=\"vertical-align:middle;\">Imagery Layer by esri\n",
       "                        <br/>Last Modified: September 08, 2021\n",
       "                        <br/>0 comments, 580,080 views\n",
       "                    </div>\n",
       "                </div>\n",
       "                "
      ],
      "text/plain": [
       "<Item title:\"USA NLCD Land Cover\" type:Imagery Layer owner:esri>"
      ]
     },
     "execution_count": 11,
     "metadata": {},
     "output_type": "execute_result"
    }
   ],
   "source": [
    "nlcd_item2"
   ]
  },
  {
   "cell_type": "markdown",
   "metadata": {},
   "source": [
    "## 3. Accessing the <u>layers</u> contained in the image service\n",
    "Image Services are a container for individual image layers. So to access the actual raster datasets we want to analyze or download, we need to drill into the service an pull out individual layers. "
   ]
  },
  {
   "cell_type": "code",
   "execution_count": 12,
   "metadata": {},
   "outputs": [
    {
     "data": {
      "text/plain": [
       "[<ImageryLayer url:\"https://landscape10.arcgis.com/arcgis/rest/services/USA_NLCD_Land_Cover/ImageServer\">]"
      ]
     },
     "execution_count": 12,
     "metadata": {},
     "output_type": "execute_result"
    }
   ],
   "source": [
    "#Reveal the layers associated with this service\n",
    "nlcd_item.layers"
   ]
  },
  {
   "cell_type": "markdown",
   "metadata": {},
   "source": [
    "There's just the one layer. Let's extract it to a new variable..."
   ]
  },
  {
   "cell_type": "code",
   "execution_count": 13,
   "metadata": {},
   "outputs": [
    {
     "data": {
      "text/plain": [
       "arcgis.raster._layer.ImageryLayer"
      ]
     },
     "execution_count": 13,
     "metadata": {},
     "output_type": "execute_result"
    }
   ],
   "source": [
    "#Captute the one and only layer as its own object and reveal its object type\n",
    "nlcd_layer = nlcd_item.layers[0]\n",
    "type(nlcd_layer)"
   ]
  },
  {
   "cell_type": "code",
   "execution_count": 14,
   "metadata": {},
   "outputs": [
    {
     "data": {
      "image/jpeg": "[encoded data removed]",
      "text/plain": [
       "<ImageryLayer url:\"https://landscape10.arcgis.com/arcgis/rest/services/USA_NLCD_Land_Cover/ImageServer\">"
      ]
     },
     "execution_count": 14,
     "metadata": {},
     "output_type": "execute_result"
    }
   ],
   "source": [
    "#Show the layer\n",
    "nlcd_layer"
   ]
  },
  {
   "cell_type": "markdown",
   "metadata": {},
   "source": [
    "### 3a. Accesing image service layers directly, using their REST endpoint URL\n",
    "What if you couldn't find the item's ID? If you can find the service's REST endpoint, you can create an image layer from that. \n",
    " * First you have to import the `ImagerLayer` object from the ArcGIS Python API's `raster` submodule. \n",
    " * Then we create the image layer from the REST URL. \n",
    " * In this instance, we have to supply the `gis` object because layers in the Living Atlas are restricted, meaning you have to provide an authenticated GIS object. "
   ]
  },
  {
   "cell_type": "code",
   "execution_count": 15,
   "metadata": {},
   "outputs": [],
   "source": [
    "#Import the ImageryLayer object into our session\n",
    "from arcgis.raster import ImageryLayer\n",
    "\n",
    "#Construct the layer directly from its URL\n",
    "nlcd_layer2 = ImageryLayer(url='https://landscape10.arcgis.com/arcgis/rest/services/USA_NLCD_Land_Cover/ImageServer',\n",
    "                           gis=gis)"
   ]
  },
  {
   "cell_type": "markdown",
   "metadata": {},
   "source": [
    "## 4. Exploring properties of the image layer\n",
    "Before analyzing our image, let's look at how we access its properties"
   ]
  },
  {
   "cell_type": "code",
   "execution_count": 16,
   "metadata": {},
   "outputs": [
    {
     "data": {
      "text/plain": [
       "['currentVersion',\n",
       " 'serviceDescription',\n",
       " 'name',\n",
       " 'description',\n",
       " 'extent',\n",
       " 'initialExtent',\n",
       " 'fullExtent',\n",
       " 'timeInfo',\n",
       " 'pixelSizeX',\n",
       " 'pixelSizeY',\n",
       " 'bandCount',\n",
       " 'pixelType',\n",
       " 'minPixelSize',\n",
       " 'maxPixelSize',\n",
       " 'copyrightText',\n",
       " 'serviceDataType',\n",
       " 'minValues',\n",
       " 'maxValues',\n",
       " 'meanValues',\n",
       " 'stdvValues',\n",
       " 'objectIdField',\n",
       " 'fields',\n",
       " 'capabilities',\n",
       " 'defaultMosaicMethod',\n",
       " 'allowedMosaicMethods',\n",
       " 'sortField',\n",
       " 'sortValue',\n",
       " 'sortAscending',\n",
       " 'mosaicOperator',\n",
       " 'maxDownloadSizeLimit',\n",
       " 'defaultCompressionQuality',\n",
       " 'defaultResamplingMethod',\n",
       " 'maxImageHeight',\n",
       " 'maxImageWidth',\n",
       " 'maxRecordCount',\n",
       " 'maxDownloadImageCount',\n",
       " 'maxMosaicImageCount',\n",
       " 'allowRasterFunction',\n",
       " 'rasterFunctionInfos',\n",
       " 'rasterTypeInfos',\n",
       " 'mensurationCapabilities',\n",
       " 'hasHistograms',\n",
       " 'hasColormap',\n",
       " 'hasRasterAttributeTable',\n",
       " 'minScale',\n",
       " 'maxScale',\n",
       " 'exportTilesAllowed',\n",
       " 'hasMultidimensions',\n",
       " 'supportsStatistics',\n",
       " 'supportsAdvancedQueries',\n",
       " 'editFieldsInfo',\n",
       " 'ownershipBasedAccessControlForRasters',\n",
       " 'allowComputeTiePoints',\n",
       " 'useStandardizedQueries',\n",
       " 'advancedQueryCapabilities',\n",
       " 'spatialReference']"
      ]
     },
     "execution_count": 16,
     "metadata": {},
     "output_type": "execute_result"
    }
   ],
   "source": [
    "#Show properties associated with the layer\n",
    "list(nlcd_layer.properties.keys())"
   ]
  },
  {
   "cell_type": "code",
   "execution_count": 17,
   "metadata": {},
   "outputs": [
    {
     "name": "stdout",
     "output_type": "stream",
     "text": [
      "OBJECTID\n",
      "Shape\n",
      "Name\n",
      "MinPS\n",
      "MaxPS\n",
      "LowPS\n",
      "HighPS\n",
      "Category\n",
      "Tag\n",
      "GroupName\n",
      "ProductName\n",
      "CenterX\n",
      "CenterY\n",
      "ZOrder\n",
      "Shape_Length\n",
      "Shape_Area\n",
      "StartYear\n",
      "EndYear\n"
     ]
    }
   ],
   "source": [
    "#Show the fields\n",
    "for f in nlcd_layer.properties.fields: print (f.name)"
   ]
  },
  {
   "cell_type": "code",
   "execution_count": 18,
   "metadata": {},
   "outputs": [
    {
     "data": {
      "text/plain": [
       "{\n",
       "  \"wkid\": 102008,\n",
       "  \"latestWkid\": 102008\n",
       "}"
      ]
     },
     "execution_count": 18,
     "metadata": {},
     "output_type": "execute_result"
    }
   ],
   "source": [
    "#Reveal the item's spatial reference\n",
    "nlcd_layer.properties.spatialReference"
   ]
  },
  {
   "cell_type": "code",
   "execution_count": 19,
   "metadata": {},
   "outputs": [
    {
     "name": "stdout",
     "output_type": "stream",
     "text": [
      "30 30\n"
     ]
    }
   ],
   "source": [
    "#What are the pixel sizes in the X and Y direction? \n",
    "xPixelSize = nlcd_layer.properties.pixelSizeX\n",
    "yPixelSize = nlcd_layer.properties.pixelSizeY\n",
    "print(xPixelSize,yPixelSize)"
   ]
  },
  {
   "cell_type": "code",
   "execution_count": 20,
   "metadata": {},
   "outputs": [
    {
     "name": "stdout",
     "output_type": "stream",
     "text": [
      "Cartographic Renderer :  Default Esri land cover classification for the National Land Cover Dataset. \n",
      "\n",
      "Cartographic Renderer (saturated) :  Saturated colors designed to be used over relief or a basemap with transparency applied. \n",
      "\n",
      "MRLC Cartographic Renderer :  MRLC land cover symbols for the National Land Cover Dataset. \n",
      "\n",
      "Analytic Renderer :  Use for analysis. The time series is filtered to ensure proper use in analysis. \n",
      "\n",
      "Simplified Renderer :  Nine simplified classes, reduced from 20 by combining Developed classes, combining Forest classes, combining Scrub classes, combining Cropland and Pasture, combining Grassland with other Herbaceous classes, and combining Wetlands classes. \n",
      "\n",
      "Developed Renderer :  Developed Open Space, Developed Low Intensity, Developed Medium Intensity and Developed High Intensity classes only. \n",
      "\n",
      "Forest Renderer :  Only Deciduous Forest, Mixed Forest, and Evergreen Forest classes are displayed. \n",
      "\n",
      "None :  A No-Op Function. \n",
      "\n"
     ]
    }
   ],
   "source": [
    "#Reveal the functions associated with the item\n",
    "for func in nlcd_layer.properties.rasterFunctionInfos: \n",
    "    print(func.name,\": \",func.description,'\\n')"
   ]
  },
  {
   "cell_type": "code",
   "execution_count": 21,
   "metadata": {},
   "outputs": [
    {
     "data": {
      "text/plain": [
       "1000"
      ]
     },
     "execution_count": 21,
     "metadata": {},
     "output_type": "execute_result"
    }
   ],
   "source": [
    "#How many pixels can be downloaded at once? \n",
    "nlcd_layer.properties.maxRecordCount"
   ]
  },
  {
   "cell_type": "markdown",
   "metadata": {},
   "source": [
    "## 5. Mapping\n",
    "Just as we did in previous notebooks, we can create a map widget and add this layer to it. "
   ]
  },
  {
   "cell_type": "code",
   "execution_count": null,
   "metadata": {},
   "outputs": [],
   "source": [
    "#Create the map, centered on Durham\n",
    "m = gis.map(\"Durham County, NC\")\n",
    "#Add the nlcd_layer\n",
    "m.add_layer(nlcd_layer)\n",
    "#Show the map\n",
    "m"
   ]
  },
  {
   "cell_type": "code",
   "execution_count": null,
   "metadata": {},
   "outputs": [],
   "source": [
    "#Retrieve the extent of the map, as zoomed by the user\n",
    "mapExtent = m.extent\n",
    "mapExtent"
   ]
  },
  {
   "cell_type": "markdown",
   "metadata": {},
   "source": [
    "## 6. Subsetting our image\n",
    "We cannot easily download this dataset in one chunk; it's too big, and that request would burden the server. Rather, we are limited by downloading 1000 pixels at time, and thus we need to constrain the extent of the data we download. The workflow here is as follows: \n",
    "* Create a geometry object to clip the raster at a management size.\n",
    " * Define an extent, either manually or using the [geocoding] module.\n",
    " * Convert it into an ArcGIS \"geometry\" object.\n",
    "* Then, we can [clip](https://developers.arcgis.com/python/api-reference/arcgis.raster.functions.html?arcgis.raster.functions.clip#clip) the NLCD layer using this geometry\n",
    "\n",
    "Reference: https://developers.arcgis.com/python/guide/raster-analysis-advanced-concepts/"
   ]
  },
  {
   "cell_type": "code",
   "execution_count": null,
   "metadata": {},
   "outputs": [],
   "source": [
    "#Create a dictionary of extent values, in decimal degrees\n",
    "myExtent = {'xmin': -79.15,\n",
    "            'ymin': 35.95,\n",
    "            'xmax': -78.95,\n",
    "            'ymax': 36.15}"
   ]
  },
  {
   "cell_type": "code",
   "execution_count": null,
   "metadata": {},
   "outputs": [],
   "source": [
    "#Alternatively, create an extent using the API's geocoding module\n",
    "from arcgis import geocoding\n",
    "area = geocoding.geocode(\"Duke University\",out_sr=nlcd_layer.properties.spatialReference)[0]\n",
    "theExtent = area['extent']"
   ]
  },
  {
   "cell_type": "code",
   "execution_count": null,
   "metadata": {},
   "outputs": [],
   "source": [
    "#Set the area of interest of our NLCD image\n",
    "nlcd_layer.extent = theExtent"
   ]
  },
  {
   "cell_type": "code",
   "execution_count": null,
   "metadata": {},
   "outputs": [],
   "source": [
    "#Display the image - it now zooms to our extent! \n",
    "nlcd_layer"
   ]
  },
  {
   "cell_type": "code",
   "execution_count": null,
   "metadata": {},
   "outputs": [],
   "source": [
    "#Now we need to compute number of rows and columns contained in this extent\n",
    "xSize = int((theExtent['xmax'] - theExtent['xmin']) / 30)\n",
    "ySize = int((theExtent['ymax'] - theExtent['ymin']) / 30)\n",
    "xSize,ySize"
   ]
  },
  {
   "cell_type": "markdown",
   "metadata": {},
   "source": [
    "* Use the imagery layer's [`export_image`](https://esri.github.io/arcgis-python-api/apidoc/html/arcgis.raster.toc.html#arcgis.raster.ImageryLayer.export_image) function to extract a subset of data."
   ]
  },
  {
   "cell_type": "code",
   "execution_count": null,
   "metadata": {},
   "outputs": [],
   "source": [
    "#Extract data\n",
    "img = nlcd_layer.export_image(\n",
    "    bbox=theExtent,     #Set the extent to clip from the image\n",
    "    size=[xSize,ySize], #Set the size of the image, in # of pixels\n",
    "    f='image')\n",
    "type(img)"
   ]
  },
  {
   "cell_type": "code",
   "execution_count": null,
   "metadata": {},
   "outputs": [],
   "source": [
    "#Show the image in the notebook\n",
    "Image(img)"
   ]
  },
  {
   "cell_type": "markdown",
   "metadata": {},
   "source": [
    "* Or save the image..."
   ]
  },
  {
   "cell_type": "code",
   "execution_count": null,
   "metadata": {},
   "outputs": [],
   "source": [
    "#Or we can save the output directly to a file\n",
    "savedimg = nlcd_layer.export_image(\n",
    "    bbox=area['extent'],           #Set the bounding box to clip the image\n",
    "    save_folder='.',             #Set the save location\n",
    "    save_file='DurhamNLCD.tif',    #Set the save filename\n",
    "    size=[xSize,ySize],            #Set the size \n",
    "    export_format='tiff',          #Set the type\n",
    "    compression_quality=100,       #Set the output compression: 100 = no compression\n",
    "    f='image'                      #Set the output\n",
    "   )"
   ]
  },
  {
   "cell_type": "markdown",
   "metadata": {},
   "source": [
    "* Or create a web link to the clipped extent that we can retrive online..."
   ]
  },
  {
   "cell_type": "code",
   "execution_count": null,
   "metadata": {},
   "outputs": [],
   "source": [
    "#Or we can create a link that subsets the image via the REST API...\n",
    "imgJSON = nlcd_layer.export_image(\n",
    "    bbox=area['extent'],           #Set the bounding box to clip the image\n",
    "    save_folder='.',             #Set the save location\n",
    "    save_file='DurhamNLCD.tif',    #Set the save filename\n",
    "    size=[xSize,ySize],            #Set the size \n",
    "    #export_format='tiff',          #Set the type\n",
    "    #compression_quality=100,       #Set the output compression: 100 = no compression\n",
    "    f='json'                      #Set the output\n",
    "   )\n",
    "print(imgJSON['href'])"
   ]
  },
  {
   "cell_type": "markdown",
   "metadata": {},
   "source": [
    "## 7. Getting the land cover at a specific location\n",
    "Say we just wanted to get the land cover at a specific location. For that we can use some of the raster operations, specifically [`get_samples`](https://developers.arcgis.com/python/api-reference/arcgis.raster.toc.html?highlight=get_samples#arcgis.raster.ImageryLayer.get_samples). \n",
    "\n",
    "To perform this, we'll need to generate a Point object from a coordinate..."
   ]
  },
  {
   "cell_type": "code",
   "execution_count": null,
   "metadata": {},
   "outputs": [],
   "source": [
    "#import the function\n",
    "from arcgis.raster.analytics import sample\n",
    "from arcgis.geometry import Point\n",
    "from arcgis.geocoding import Geocoder"
   ]
  },
  {
   "cell_type": "markdown",
   "metadata": {},
   "source": [
    "First we create out sampling point [source](https://developers.arcgis.com/python/guide/part2-working-with-geometries/#Creating-Point-objects)."
   ]
  },
  {
   "cell_type": "code",
   "execution_count": null,
   "metadata": {},
   "outputs": [],
   "source": [
    "#Set the x and y coordinates\n",
    "x_coord = -78.94\n",
    "y_coord = 35.997"
   ]
  },
  {
   "cell_type": "code",
   "execution_count": null,
   "metadata": {},
   "outputs": [],
   "source": [
    "pt = Point(\n",
    "    {'x':x_coord,\n",
    "     'y':y_coord,\n",
    "     \"spatialReference\":{\"wkid\":4326}}\n",
    ")\n",
    "map0 = gis.map(\"Duke University\")\n",
    "map0.zoom = 14\n",
    "map0.draw(pt)\n",
    "map0"
   ]
  },
  {
   "cell_type": "code",
   "execution_count": null,
   "metadata": {},
   "outputs": [],
   "source": [
    "#Create the point where we want to sample the raster\n",
    "the_value = nlcd_layer.get_samples(pt)\n",
    "the_value"
   ]
  },
  {
   "cell_type": "code",
   "execution_count": null,
   "metadata": {},
   "outputs": [],
   "source": [
    "#Print the result\n",
    "cover_type = the_value[0]['value']\n",
    "print(f'At X={x_coord},Y={y_coord}, the land use is {cover_type}')"
   ]
  },
  {
   "cell_type": "code",
   "execution_count": null,
   "metadata": {},
   "outputs": [],
   "source": [
    "the_results = sample(\n",
    "    input_rasters = [nlcd_layer],\n",
    "    input_location_data = pt\n",
    "    "
   ]
  }
 ],
 "metadata": {
  "kernelspec": {
   "display_name": "Python 3",
   "language": "python",
   "name": "python3"
  },
  "language_info": {
   "codemirror_mode": {
    "name": "ipython",
    "version": 3
   },
   "file_extension": ".py",
   "mimetype": "text/x-python",
   "name": "python",
   "nbconvert_exporter": "python",
   "pygments_lexer": "ipython3",
   "version": "3.9.11"
  }
 },
 "nbformat": 4,
 "nbformat_minor": 2
}
